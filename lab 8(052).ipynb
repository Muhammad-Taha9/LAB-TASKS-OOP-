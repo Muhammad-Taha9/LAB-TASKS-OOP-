{
 "cells": [
  {
   "cell_type": "code",
   "execution_count": 1,
   "id": "32ce77b2-d337-4676-a55a-1a00fe216b45",
   "metadata": {},
   "outputs": [],
   "source": [
    "#Name: Muhamad Taha Shoukat \n",
    "#Roll No. Su92-Bsaim-S24-052\n",
    "#Class: BSAI(2-A)"
   ]
  },
  {
   "cell_type": "code",
   "execution_count": 2,
   "id": "5236d8f7-f289-4478-ba53-7bd92825e954",
   "metadata": {},
   "outputs": [
    {
     "name": "stdout",
     "output_type": "stream",
     "text": [
      "Name: Alice Smith, Age: 28 Team: Tech\n"
     ]
    }
   ],
   "source": [
    "import csv\n",
    "\n",
    "class Person:\n",
    "    def __init__(self, name, age):\n",
    "        self.name = name\n",
    "        self.age = age\n",
    "\n",
    "    def display_info(self):\n",
    "        return f\"Name: {self.name}, Age: {self.age}\"\n",
    "\n",
    "class Employee:\n",
    "    def __init__(self, employee_id, role):\n",
    "        self.employee_id = employee_id\n",
    "        self.role = role\n",
    "\n",
    "    def display_info(self):\n",
    "        return f\"Employee ID: {self.employee_id}, Role: {self.role}\"\n",
    "\n",
    "class Staff(Person, Employee):\n",
    "    def __init__(self, name, age, employee_id, role, team):\n",
    "        Person.__init__(self, name, age)\n",
    "        Employee.__init__(self, employee_id, role)\n",
    "        self.team = team\n",
    "\n",
    "    def additional_info(self):\n",
    "        return f\"Team: {self.team}\"\n",
    "\n",
    "class EmployeeManager:\n",
    "    def __init__(self, file_name):\n",
    "        self.file_name = file_name\n",
    "\n",
    "    def read_employees(self):\n",
    "        employees = []\n",
    "        try:\n",
    "            with open(self.file_name, mode='r', newline='') as file:\n",
    "                reader = csv.DictReader(file)\n",
    "                for row in reader:\n",
    "                    employees.append(Staff(row['name'], int(row['age']), row['employee_id'], row['role'], row['team']))\n",
    "        except FileNotFoundError:\n",
    "            pass\n",
    "        return employees\n",
    "\n",
    "    def write_employees(self, employees):\n",
    "        with open(self.file_name, mode='w', newline='') as file:\n",
    "            writer = csv.DictWriter(file, fieldnames=['name', 'age', 'employee_id', 'role', 'team'])\n",
    "            writer.writeheader()\n",
    "            for emp in employees:\n",
    "                writer.writerow({'name': emp.name, 'age': emp.age, 'employee_id': emp.employee_id, 'role': emp.role, 'team': emp.team})\n",
    "\n",
    "    def add_employee(self, staff):\n",
    "        employees = self.read_employees()\n",
    "        employees.append(staff)\n",
    "        self.write_employees(employees)\n",
    "\n",
    "manager = EmployeeManager('team_data.csv')\n",
    "\n",
    "new_staff = Staff(\"Alice Smith\", 28, \"A102\", \"Developer\", \"Tech\")\n",
    "manager.add_employee(new_staff)\n",
    "\n",
    "for emp in manager.read_employees():\n",
    "    print(emp.display_info(), emp.additional_info())\n"
   ]
  }
 ],
 "metadata": {
  "kernelspec": {
   "display_name": "Python 3 (ipykernel)",
   "language": "python",
   "name": "python3"
  },
  "language_info": {
   "codemirror_mode": {
    "name": "ipython",
    "version": 3
   },
   "file_extension": ".py",
   "mimetype": "text/x-python",
   "name": "python",
   "nbconvert_exporter": "python",
   "pygments_lexer": "ipython3",
   "version": "3.11.7"
  }
 },
 "nbformat": 4,
 "nbformat_minor": 5
}
