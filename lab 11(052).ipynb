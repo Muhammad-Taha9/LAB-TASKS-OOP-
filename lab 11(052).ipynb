{
 "cells": [
  {
   "cell_type": "code",
   "execution_count": 1,
   "id": "cf5d87bb-c566-44d0-a06b-98ec8a0fb712",
   "metadata": {},
   "outputs": [],
   "source": [
    "#NAME:MUHAMMAD TAHA\n",
    "#CLASS:BSAI(2-A)\n",
    "#ROLL-NO.SU92-BSAIM-S24-052"
   ]
  },
  {
   "cell_type": "code",
   "execution_count": 9,
   "id": "0c10c72a-9e8b-4ae6-a75c-a92dd6001eb1",
   "metadata": {},
   "outputs": [
    {
     "ename": "SyntaxError",
     "evalue": "invalid non-printable character U+00A0 (2222640369.py, line 8)",
     "output_type": "error",
     "traceback": [
      "\u001b[1;36m  Cell \u001b[1;32mIn[9], line 8\u001b[1;36m\u001b[0m\n\u001b[1;33m    return self.__name\u001b[0m\n\u001b[1;37m                       ^\u001b[0m\n\u001b[1;31mSyntaxError\u001b[0m\u001b[1;31m:\u001b[0m invalid non-printable character U+00A0\n"
     ]
    }
   ],
   "source": [
    "class Employee:\n",
    "    def __init__(self, name, age, salary):\n",
    "        self.__name = name\n",
    "        self.__age = age\n",
    "        self.__salary = salary\n",
    "\n",
    "    def get_name(self):\n",
    "        return self.__name   \n",
    "\n",
    "\n",
    "    def set_name(self, name):\n",
    "        self.__name = name\n",
    "\n",
    "   \n",
    "class Manager(Employee):\n",
    "    def __init__(self, name, age, salary, department):\n",
    "        super().__init__(name, age, salary)\n",
    "        self.__department = department\n",
    "\n",
    "    def get_department(self):\n",
    "        return self.__department   \n",
    "\n",
    "\n",
    "    def set_department(self, department):\n",
    "        self.__department = department   \n",
    "\n",
    "\n",
    "class Worker(Employee):\n",
    "    def __init__(self, name, age, salary, hours_worked):\n",
    "        super().__init__(name, age, salary)\n",
    "        self.__hours_worked = hours_worked\n",
    "\n",
    "    def get_hours_worked(self):\n",
    "        return self.__hours_worked\n",
    "\n",
    "    def set_hours_worked(self, hours_worked):\n",
    "        self.__hours_worked = hours_worked   \n",
    "\n",
    "\n",
    "import csv\n",
    "\n",
    "def save_employees_to_file(employees, filename):\n",
    "    with open(filename, 'w', newline='') as file:\n",
    "        writer = csv.writer(file)\n",
    "        writer.writerow(['Name', 'Age', 'Salary', 'Department', 'Hours Worked'])\n",
    "        for employee in employees:\n",
    "            if isinstance(employee, Manager):\n",
    "                writer.writerow([employee.get_name(), employee.get_age(), employee.get_salary(), employee.get_department(), 'N/A'])\n",
    "            elif isinstance(employee, Worker):\n",
    "                writer.writerow([employee.get_name(), employee.get_age(), employee.get_salary(), 'N/A', employee.get_hours_worked()])\n",
    "\n",
    "def load_employees_from_file(filename):\n",
    "    employees = []\n",
    "    with open(filename, 'r') as file:\n",
    "        reader = csv.reader(file)\n",
    "        next(reader)  \n",
    "        for row in reader:\n",
    "            if len(row) == 5:  \n",
    "                employees.append(Manager(row[0], int(row[1]), float(row[2]), row[3]))\n",
    "            elif len(row) == 4:  \n",
    "                employees.append(Worker(row[0], int(row[1]), float(row[2]), int(row[3])))\n",
    "    return employees\n",
    "\n",
    "def add_employee(employees):\n",
    "    \n",
    "def display_employees(employees):\n",
    "\n",
    "def update_employee(employees):\n",
    "    \n",
    "def delete_employee(employees):\n",
    "\n",
    "def main():\n",
    "    employees = load_employees_from_file('employees.csv')\n",
    "    while True:\n",
    "        print(\"1. Add Employee\")\n",
    "        print(\"2. Display Employees\")\n",
    "        print(\"3. Update Employee\")\n",
    "        print(\"4. Delete Employee\")\n",
    "        print(\"5. Exit\")\n",
    "        choice = int(input(\"Enter your choice: \"))\n",
    "        if choice == 1:\n",
    "            add_employee(employees)\n",
    "        elif choice == 2:\n",
    "            display_employees(employees)\n",
    "        save_employees_to_file(employees, 'employees.csv')"
   ]
  },
  {
   "cell_type": "code",
   "execution_count": null,
   "id": "b8b179ef-354e-4a3d-bdb6-1c41106681db",
   "metadata": {},
   "outputs": [],
   "source": []
  }
 ],
 "metadata": {
  "kernelspec": {
   "display_name": "Python 3 (ipykernel)",
   "language": "python",
   "name": "python3"
  },
  "language_info": {
   "codemirror_mode": {
    "name": "ipython",
    "version": 3
   },
   "file_extension": ".py",
   "mimetype": "text/x-python",
   "name": "python",
   "nbconvert_exporter": "python",
   "pygments_lexer": "ipython3",
   "version": "3.11.7"
  }
 },
 "nbformat": 4,
 "nbformat_minor": 5
}
